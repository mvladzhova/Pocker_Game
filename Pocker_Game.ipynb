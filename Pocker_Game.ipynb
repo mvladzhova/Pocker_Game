{
 "cells": [
  {
   "cell_type": "markdown",
   "metadata": {},
   "source": [
    "## How to create a class for pocker game"
   ]
  },
  {
   "cell_type": "code",
   "execution_count": null,
   "metadata": {},
   "outputs": [],
   "source": [
    "import random\n",
    "\n",
    "class Pocker():\n",
    "    def __init__(self,cards_deck = ['2♣', '3♣', '4♣', '5♣', '6♣', '7♣', '8♣', '9♣', '10♣', 'J♣', 'Q♣', 'K♣', 'A♣', \n",
    "              '2♦', '3♦', '4♦', '5♦', '6♦', '7♦', '8♦', '9♦', '10♦', 'J♦', 'Q♦', 'K♦', 'A♦',\n",
    "              '2♥', '3♥', '4♥', '5♥', '6♥', '7♥', '8♥', '9♥', '10♥', 'J♥', 'Q♥', 'K♥', 'A♥',\n",
    "              '2♠', '3♠', '4♠', '5♠', '6♠', '7♠', '8♠', '9♠', '10♠', 'J♠', 'Q♠', 'K♠', 'A♠']):\n",
    "        self.cards_deck = cards_deck\n",
    "\n",
    "    def create_deck(self):\n",
    "        print(f'Cards deck: {self.cards_deck}')\n",
    "    \n",
    "    def shuffle_deck(self):\n",
    "        random.shuffle(self.cards_deck)\n",
    "        print(f'Shuffled deck: {self.cards_deck}.')\n",
    "    \n",
    "    def deal_cards(self):\n",
    "        \n",
    "        player1 = [0,0,0,0,0]\n",
    "        player2 = [0,0,0,0,0]\n",
    "        player3 = [0,0,0,0,0]\n",
    "        player4 = [0,0,0,0,0]\n",
    "        player5 = [0,0,0,0,0]\n",
    "        \n",
    "        for i in range(5):\n",
    "\n",
    "            player1[i] = self.cards_deck[0]\n",
    "            self.cards_deck = self.cards_deck[1:len(self.cards_deck)]\n",
    "    \n",
    "            player2[i] = self.cards_deck[0]\n",
    "            self.cards_deck = self.cards_deck[1:len(self.cards_deck)]\n",
    "\n",
    "            player3[i] = self.cards_deck[0]\n",
    "            self.cards_deck = self.cards_deck[1:len(self.cards_deck)]\n",
    "        \n",
    "            player4[i] = self.cards_deck[0]\n",
    "            self.cards_deck = self.cards_deck[1:len(self.cards_deck)]\n",
    "    \n",
    "            player5[i] = self.cards_deck[0]\n",
    "            self.cards_deck = self.cards_deck[1:len(self.cards_deck)]\n",
    "            \n",
    "        print(f'Player1:{player1}')\n",
    "        print()\n",
    "        print(f'Player2:{player2}')\n",
    "        print()\n",
    "        print(f'Player3:{player3}')\n",
    "        print()\n",
    "        print(f'Player4:{player4}')\n",
    "        print()\n",
    "        print(f'Player5:{player5}')\n",
    "        print()\n",
    "        print(f'Rest of cards deck: {self.cards_deck}.')\n",
    "\n",
    "newPocker = Pocker()\n",
    "\n",
    "newPocker.create_deck()\n",
    "print()\n",
    "newPocker.shuffle_deck()\n",
    "print()\n",
    "newPocker.deal_cards()"
   ]
  },
  {
   "cell_type": "code",
   "execution_count": null,
   "metadata": {},
   "outputs": [],
   "source": []
  }
 ],
 "metadata": {
  "kernelspec": {
   "display_name": "Python 3",
   "language": "python",
   "name": "python3"
  },
  "language_info": {
   "codemirror_mode": {
    "name": "ipython",
    "version": 3
   },
   "file_extension": ".py",
   "mimetype": "text/x-python",
   "name": "python",
   "nbconvert_exporter": "python",
   "pygments_lexer": "ipython3",
   "version": "3.7.6"
  }
 },
 "nbformat": 4,
 "nbformat_minor": 4
}
